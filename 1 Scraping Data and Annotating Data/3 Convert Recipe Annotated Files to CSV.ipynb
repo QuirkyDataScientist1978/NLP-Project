{
 "cells": [
  {
   "cell_type": "code",
   "execution_count": 1,
   "metadata": {},
   "outputs": [
    {
     "data": {
      "application/javascript": [
       "\n",
       "            setTimeout(function() {\n",
       "                var nbb_cell_id = 1;\n",
       "                var nbb_unformatted_code = \"%load_ext nb_black\";\n",
       "                var nbb_formatted_code = \"%load_ext nb_black\";\n",
       "                var nbb_cells = Jupyter.notebook.get_cells();\n",
       "                for (var i = 0; i < nbb_cells.length; ++i) {\n",
       "                    if (nbb_cells[i].input_prompt_number == nbb_cell_id) {\n",
       "                        if (nbb_cells[i].get_text() == nbb_unformatted_code) {\n",
       "                             nbb_cells[i].set_text(nbb_formatted_code);\n",
       "                        }\n",
       "                        break;\n",
       "                    }\n",
       "                }\n",
       "            }, 500);\n",
       "            "
      ],
      "text/plain": [
       "<IPython.core.display.Javascript object>"
      ]
     },
     "metadata": {},
     "output_type": "display_data"
    }
   ],
   "source": [
    "%load_ext nb_black"
   ]
  },
  {
   "cell_type": "code",
   "execution_count": 2,
   "metadata": {},
   "outputs": [
    {
     "data": {
      "application/javascript": [
       "\n",
       "            setTimeout(function() {\n",
       "                var nbb_cell_id = 2;\n",
       "                var nbb_unformatted_code = \"import pandas as pd\\nimport json\\nimport spacy\";\n",
       "                var nbb_formatted_code = \"import pandas as pd\\nimport json\\nimport spacy\";\n",
       "                var nbb_cells = Jupyter.notebook.get_cells();\n",
       "                for (var i = 0; i < nbb_cells.length; ++i) {\n",
       "                    if (nbb_cells[i].input_prompt_number == nbb_cell_id) {\n",
       "                        if (nbb_cells[i].get_text() == nbb_unformatted_code) {\n",
       "                             nbb_cells[i].set_text(nbb_formatted_code);\n",
       "                        }\n",
       "                        break;\n",
       "                    }\n",
       "                }\n",
       "            }, 500);\n",
       "            "
      ],
      "text/plain": [
       "<IPython.core.display.Javascript object>"
      ]
     },
     "metadata": {},
     "output_type": "display_data"
    }
   ],
   "source": [
    "import pandas as pd\n",
    "import json\n",
    "import spacy"
   ]
  },
  {
   "cell_type": "code",
   "execution_count": 3,
   "metadata": {},
   "outputs": [
    {
     "data": {
      "application/javascript": [
       "\n",
       "            setTimeout(function() {\n",
       "                var nbb_cell_id = 3;\n",
       "                var nbb_unformatted_code = \"nlp = spacy.load(\\\"en_core_web_lg\\\")\";\n",
       "                var nbb_formatted_code = \"nlp = spacy.load(\\\"en_core_web_lg\\\")\";\n",
       "                var nbb_cells = Jupyter.notebook.get_cells();\n",
       "                for (var i = 0; i < nbb_cells.length; ++i) {\n",
       "                    if (nbb_cells[i].input_prompt_number == nbb_cell_id) {\n",
       "                        if (nbb_cells[i].get_text() == nbb_unformatted_code) {\n",
       "                             nbb_cells[i].set_text(nbb_formatted_code);\n",
       "                        }\n",
       "                        break;\n",
       "                    }\n",
       "                }\n",
       "            }, 500);\n",
       "            "
      ],
      "text/plain": [
       "<IPython.core.display.Javascript object>"
      ]
     },
     "metadata": {},
     "output_type": "display_data"
    }
   ],
   "source": [
    "nlp = spacy.load(\"en_core_web_lg\")"
   ]
  },
  {
   "cell_type": "code",
   "execution_count": 4,
   "metadata": {},
   "outputs": [
    {
     "data": {
      "application/javascript": [
       "\n",
       "            setTimeout(function() {\n",
       "                var nbb_cell_id = 4;\n",
       "                var nbb_unformatted_code = \"annotation_array = []\\n\\nread_annotation = open(\\\"./annotated data/NLP Project.json\\\")\\nfor line in read_annotation:\\n    data = json.loads(line)\\n    annotation_array.append(data)\";\n",
       "                var nbb_formatted_code = \"annotation_array = []\\n\\nread_annotation = open(\\\"./annotated data/NLP Project.json\\\")\\nfor line in read_annotation:\\n    data = json.loads(line)\\n    annotation_array.append(data)\";\n",
       "                var nbb_cells = Jupyter.notebook.get_cells();\n",
       "                for (var i = 0; i < nbb_cells.length; ++i) {\n",
       "                    if (nbb_cells[i].input_prompt_number == nbb_cell_id) {\n",
       "                        if (nbb_cells[i].get_text() == nbb_unformatted_code) {\n",
       "                             nbb_cells[i].set_text(nbb_formatted_code);\n",
       "                        }\n",
       "                        break;\n",
       "                    }\n",
       "                }\n",
       "            }, 500);\n",
       "            "
      ],
      "text/plain": [
       "<IPython.core.display.Javascript object>"
      ]
     },
     "metadata": {},
     "output_type": "display_data"
    }
   ],
   "source": [
    "annotation_array = []\n",
    "\n",
    "read_annotation = open(\"./annotated data/NLP Project.json\")\n",
    "for line in read_annotation:\n",
    "    data = json.loads(line)\n",
    "    annotation_array.append(data)"
   ]
  },
  {
   "cell_type": "code",
   "execution_count": 5,
   "metadata": {},
   "outputs": [
    {
     "data": {
      "text/plain": [
       "264"
      ]
     },
     "execution_count": 5,
     "metadata": {},
     "output_type": "execute_result"
    },
    {
     "data": {
      "application/javascript": [
       "\n",
       "            setTimeout(function() {\n",
       "                var nbb_cell_id = 5;\n",
       "                var nbb_unformatted_code = \"len(annotation_array)\";\n",
       "                var nbb_formatted_code = \"len(annotation_array)\";\n",
       "                var nbb_cells = Jupyter.notebook.get_cells();\n",
       "                for (var i = 0; i < nbb_cells.length; ++i) {\n",
       "                    if (nbb_cells[i].input_prompt_number == nbb_cell_id) {\n",
       "                        if (nbb_cells[i].get_text() == nbb_unformatted_code) {\n",
       "                             nbb_cells[i].set_text(nbb_formatted_code);\n",
       "                        }\n",
       "                        break;\n",
       "                    }\n",
       "                }\n",
       "            }, 500);\n",
       "            "
      ],
      "text/plain": [
       "<IPython.core.display.Javascript object>"
      ]
     },
     "metadata": {},
     "output_type": "display_data"
    }
   ],
   "source": [
    "len(annotation_array)"
   ]
  },
  {
   "cell_type": "code",
   "execution_count": 6,
   "metadata": {},
   "outputs": [
    {
     "data": {
      "text/plain": [
       "'Bake for 5 minutes until set but not browned.'"
      ]
     },
     "execution_count": 6,
     "metadata": {},
     "output_type": "execute_result"
    },
    {
     "data": {
      "application/javascript": [
       "\n",
       "            setTimeout(function() {\n",
       "                var nbb_cell_id = 6;\n",
       "                var nbb_unformatted_code = \"annotation_array[2][\\\"content\\\"]\";\n",
       "                var nbb_formatted_code = \"annotation_array[2][\\\"content\\\"]\";\n",
       "                var nbb_cells = Jupyter.notebook.get_cells();\n",
       "                for (var i = 0; i < nbb_cells.length; ++i) {\n",
       "                    if (nbb_cells[i].input_prompt_number == nbb_cell_id) {\n",
       "                        if (nbb_cells[i].get_text() == nbb_unformatted_code) {\n",
       "                             nbb_cells[i].set_text(nbb_formatted_code);\n",
       "                        }\n",
       "                        break;\n",
       "                    }\n",
       "                }\n",
       "            }, 500);\n",
       "            "
      ],
      "text/plain": [
       "<IPython.core.display.Javascript object>"
      ]
     },
     "metadata": {},
     "output_type": "display_data"
    }
   ],
   "source": [
    "annotation_array[2][\"content\"]"
   ]
  },
  {
   "cell_type": "code",
   "execution_count": 7,
   "metadata": {},
   "outputs": [
    {
     "name": "stdout",
     "output_type": "stream",
     "text": [
      "37\n",
      "43\n",
      "browned\n",
      "U-Action\n",
      "0\n",
      "3\n",
      "Bake\n",
      "U-Action\n"
     ]
    },
    {
     "data": {
      "application/javascript": [
       "\n",
       "            setTimeout(function() {\n",
       "                var nbb_cell_id = 7;\n",
       "                var nbb_unformatted_code = \"for annotated_text in annotation_array[2][\\\"annotation\\\"]:\\n    print(annotated_text[\\\"points\\\"][0][\\\"start\\\"])\\n    print(annotated_text[\\\"points\\\"][0][\\\"end\\\"])\\n    print(annotated_text[\\\"points\\\"][0][\\\"text\\\"])\\n    print(annotated_text[\\\"label\\\"][0])\";\n",
       "                var nbb_formatted_code = \"for annotated_text in annotation_array[2][\\\"annotation\\\"]:\\n    print(annotated_text[\\\"points\\\"][0][\\\"start\\\"])\\n    print(annotated_text[\\\"points\\\"][0][\\\"end\\\"])\\n    print(annotated_text[\\\"points\\\"][0][\\\"text\\\"])\\n    print(annotated_text[\\\"label\\\"][0])\";\n",
       "                var nbb_cells = Jupyter.notebook.get_cells();\n",
       "                for (var i = 0; i < nbb_cells.length; ++i) {\n",
       "                    if (nbb_cells[i].input_prompt_number == nbb_cell_id) {\n",
       "                        if (nbb_cells[i].get_text() == nbb_unformatted_code) {\n",
       "                             nbb_cells[i].set_text(nbb_formatted_code);\n",
       "                        }\n",
       "                        break;\n",
       "                    }\n",
       "                }\n",
       "            }, 500);\n",
       "            "
      ],
      "text/plain": [
       "<IPython.core.display.Javascript object>"
      ]
     },
     "metadata": {},
     "output_type": "display_data"
    }
   ],
   "source": [
    "for annotated_text in annotation_array[2][\"annotation\"]:\n",
    "    print(annotated_text[\"points\"][0][\"start\"])\n",
    "    print(annotated_text[\"points\"][0][\"end\"])\n",
    "    print(annotated_text[\"points\"][0][\"text\"])\n",
    "    print(annotated_text[\"label\"][0])"
   ]
  },
  {
   "cell_type": "code",
   "execution_count": 8,
   "metadata": {},
   "outputs": [
    {
     "data": {
      "application/javascript": [
       "\n",
       "            setTimeout(function() {\n",
       "                var nbb_cell_id = 8;\n",
       "                var nbb_unformatted_code = \"preprocessed_df = pd.DataFrame({\\\"sentence#\\\": [], \\\"word\\\": [], \\\"pos\\\": [], \\\"tag\\\": []})\";\n",
       "                var nbb_formatted_code = \"preprocessed_df = pd.DataFrame({\\\"sentence#\\\": [], \\\"word\\\": [], \\\"pos\\\": [], \\\"tag\\\": []})\";\n",
       "                var nbb_cells = Jupyter.notebook.get_cells();\n",
       "                for (var i = 0; i < nbb_cells.length; ++i) {\n",
       "                    if (nbb_cells[i].input_prompt_number == nbb_cell_id) {\n",
       "                        if (nbb_cells[i].get_text() == nbb_unformatted_code) {\n",
       "                             nbb_cells[i].set_text(nbb_formatted_code);\n",
       "                        }\n",
       "                        break;\n",
       "                    }\n",
       "                }\n",
       "            }, 500);\n",
       "            "
      ],
      "text/plain": [
       "<IPython.core.display.Javascript object>"
      ]
     },
     "metadata": {},
     "output_type": "display_data"
    }
   ],
   "source": [
    "preprocessed_df = pd.DataFrame({\"sentence#\": [], \"word\": [], \"pos\": [], \"tag\": []})"
   ]
  },
  {
   "cell_type": "code",
   "execution_count": 9,
   "metadata": {},
   "outputs": [
    {
     "data": {
      "application/javascript": [
       "\n",
       "            setTimeout(function() {\n",
       "                var nbb_cell_id = 9;\n",
       "                var nbb_unformatted_code = \"for i, annotation in enumerate(annotation_array):\\n    doc = nlp(annotation[\\\"content\\\"])\\n\\n    for token in doc:\\n\\n        found = False\\n\\n        # some content does not have annotations\\n        if annotation[\\\"annotation\\\"] is not None:\\n            for annotated_text in annotation[\\\"annotation\\\"]:\\n\\n                # matches with text and the start and end character offset then add the data to df\\n                if (\\n                    (token.text == annotated_text[\\\"points\\\"][0][\\\"text\\\"])\\n                    and (token.idx == annotated_text[\\\"points\\\"][0][\\\"start\\\"])\\n                    and (\\n                        (token.idx + token.__len__() - 1)\\n                        == annotated_text[\\\"points\\\"][0][\\\"end\\\"]\\n                    )\\n                ):\\n\\n                    # add the token with the tag\\n                    preprocessed_df = preprocessed_df.append(\\n                        pd.DataFrame(\\n                            {\\n                                \\\"sentence#\\\": [i],\\n                                \\\"word\\\": [token.text],\\n                                \\\"pos\\\": [token.tag_],\\n                                \\\"tag\\\": [annotated_text[\\\"label\\\"][0]],\\n                            }\\n                        )\\n                    )\\n\\n                    # set found to true\\n                    found = True\\n\\n                    # break since we found the token\\n                    break\\n\\n        if not found:\\n            # add the O tag\\n            preprocessed_df = preprocessed_df.append(\\n                pd.DataFrame(\\n                    {\\n                        \\\"sentence#\\\": [i],\\n                        \\\"word\\\": [token.text],\\n                        \\\"pos\\\": [token.tag_],\\n                        \\\"tag\\\": [\\\"O\\\"],\\n                    }\\n                )\\n            )\";\n",
       "                var nbb_formatted_code = \"for i, annotation in enumerate(annotation_array):\\n    doc = nlp(annotation[\\\"content\\\"])\\n\\n    for token in doc:\\n\\n        found = False\\n\\n        # some content does not have annotations\\n        if annotation[\\\"annotation\\\"] is not None:\\n            for annotated_text in annotation[\\\"annotation\\\"]:\\n\\n                # matches with text and the start and end character offset then add the data to df\\n                if (\\n                    (token.text == annotated_text[\\\"points\\\"][0][\\\"text\\\"])\\n                    and (token.idx == annotated_text[\\\"points\\\"][0][\\\"start\\\"])\\n                    and (\\n                        (token.idx + token.__len__() - 1)\\n                        == annotated_text[\\\"points\\\"][0][\\\"end\\\"]\\n                    )\\n                ):\\n\\n                    # add the token with the tag\\n                    preprocessed_df = preprocessed_df.append(\\n                        pd.DataFrame(\\n                            {\\n                                \\\"sentence#\\\": [i],\\n                                \\\"word\\\": [token.text],\\n                                \\\"pos\\\": [token.tag_],\\n                                \\\"tag\\\": [annotated_text[\\\"label\\\"][0]],\\n                            }\\n                        )\\n                    )\\n\\n                    # set found to true\\n                    found = True\\n\\n                    # break since we found the token\\n                    break\\n\\n        if not found:\\n            # add the O tag\\n            preprocessed_df = preprocessed_df.append(\\n                pd.DataFrame(\\n                    {\\n                        \\\"sentence#\\\": [i],\\n                        \\\"word\\\": [token.text],\\n                        \\\"pos\\\": [token.tag_],\\n                        \\\"tag\\\": [\\\"O\\\"],\\n                    }\\n                )\\n            )\";\n",
       "                var nbb_cells = Jupyter.notebook.get_cells();\n",
       "                for (var i = 0; i < nbb_cells.length; ++i) {\n",
       "                    if (nbb_cells[i].input_prompt_number == nbb_cell_id) {\n",
       "                        if (nbb_cells[i].get_text() == nbb_unformatted_code) {\n",
       "                             nbb_cells[i].set_text(nbb_formatted_code);\n",
       "                        }\n",
       "                        break;\n",
       "                    }\n",
       "                }\n",
       "            }, 500);\n",
       "            "
      ],
      "text/plain": [
       "<IPython.core.display.Javascript object>"
      ]
     },
     "metadata": {},
     "output_type": "display_data"
    }
   ],
   "source": [
    "for i, annotation in enumerate(annotation_array):\n",
    "    doc = nlp(annotation[\"content\"])\n",
    "\n",
    "    for token in doc:\n",
    "\n",
    "        found = False\n",
    "\n",
    "        # some content does not have annotations\n",
    "        if annotation[\"annotation\"] is not None:\n",
    "            for annotated_text in annotation[\"annotation\"]:\n",
    "\n",
    "                # matches with text and the start and end character offset then add the data to df\n",
    "                if (\n",
    "                    (token.text == annotated_text[\"points\"][0][\"text\"])\n",
    "                    and (token.idx == annotated_text[\"points\"][0][\"start\"])\n",
    "                    and (\n",
    "                        (token.idx + token.__len__() - 1)\n",
    "                        == annotated_text[\"points\"][0][\"end\"]\n",
    "                    )\n",
    "                ):\n",
    "\n",
    "                    # add the token with the tag\n",
    "                    preprocessed_df = preprocessed_df.append(\n",
    "                        pd.DataFrame(\n",
    "                            {\n",
    "                                \"sentence#\": [i],\n",
    "                                \"word\": [token.text],\n",
    "                                \"pos\": [token.tag_],\n",
    "                                \"tag\": [annotated_text[\"label\"][0]],\n",
    "                            }\n",
    "                        )\n",
    "                    )\n",
    "\n",
    "                    # set found to true\n",
    "                    found = True\n",
    "\n",
    "                    # break since we found the token\n",
    "                    break\n",
    "\n",
    "        if not found:\n",
    "            # add the O tag\n",
    "            preprocessed_df = preprocessed_df.append(\n",
    "                pd.DataFrame(\n",
    "                    {\n",
    "                        \"sentence#\": [i],\n",
    "                        \"word\": [token.text],\n",
    "                        \"pos\": [token.tag_],\n",
    "                        \"tag\": [\"O\"],\n",
    "                    }\n",
    "                )\n",
    "            )"
   ]
  },
  {
   "cell_type": "code",
   "execution_count": 10,
   "metadata": {},
   "outputs": [
    {
     "data": {
      "application/javascript": [
       "\n",
       "            setTimeout(function() {\n",
       "                var nbb_cell_id = 10;\n",
       "                var nbb_unformatted_code = \"preprocessed_df.reset_index(inplace=True, drop=True)\";\n",
       "                var nbb_formatted_code = \"preprocessed_df.reset_index(inplace=True, drop=True)\";\n",
       "                var nbb_cells = Jupyter.notebook.get_cells();\n",
       "                for (var i = 0; i < nbb_cells.length; ++i) {\n",
       "                    if (nbb_cells[i].input_prompt_number == nbb_cell_id) {\n",
       "                        if (nbb_cells[i].get_text() == nbb_unformatted_code) {\n",
       "                             nbb_cells[i].set_text(nbb_formatted_code);\n",
       "                        }\n",
       "                        break;\n",
       "                    }\n",
       "                }\n",
       "            }, 500);\n",
       "            "
      ],
      "text/plain": [
       "<IPython.core.display.Javascript object>"
      ]
     },
     "metadata": {},
     "output_type": "display_data"
    }
   ],
   "source": [
    "preprocessed_df.reset_index(inplace=True, drop=True)"
   ]
  },
  {
   "cell_type": "code",
   "execution_count": 11,
   "metadata": {},
   "outputs": [
    {
     "data": {
      "text/html": [
       "<div>\n",
       "<style scoped>\n",
       "    .dataframe tbody tr th:only-of-type {\n",
       "        vertical-align: middle;\n",
       "    }\n",
       "\n",
       "    .dataframe tbody tr th {\n",
       "        vertical-align: top;\n",
       "    }\n",
       "\n",
       "    .dataframe thead th {\n",
       "        text-align: right;\n",
       "    }\n",
       "</style>\n",
       "<table border=\"1\" class=\"dataframe\">\n",
       "  <thead>\n",
       "    <tr style=\"text-align: right;\">\n",
       "      <th></th>\n",
       "      <th>sentence#</th>\n",
       "      <th>word</th>\n",
       "      <th>pos</th>\n",
       "      <th>tag</th>\n",
       "    </tr>\n",
       "  </thead>\n",
       "  <tbody>\n",
       "    <tr>\n",
       "      <th>0</th>\n",
       "      <td>0.0</td>\n",
       "      <td>Preheat</td>\n",
       "      <td>VB</td>\n",
       "      <td>U-Action</td>\n",
       "    </tr>\n",
       "    <tr>\n",
       "      <th>1</th>\n",
       "      <td>0.0</td>\n",
       "      <td>oven</td>\n",
       "      <td>NN</td>\n",
       "      <td>U-Utensil</td>\n",
       "    </tr>\n",
       "    <tr>\n",
       "      <th>2</th>\n",
       "      <td>0.0</td>\n",
       "      <td>to</td>\n",
       "      <td>IN</td>\n",
       "      <td>O</td>\n",
       "    </tr>\n",
       "    <tr>\n",
       "      <th>3</th>\n",
       "      <td>0.0</td>\n",
       "      <td>425</td>\n",
       "      <td>CD</td>\n",
       "      <td>O</td>\n",
       "    </tr>\n",
       "    <tr>\n",
       "      <th>4</th>\n",
       "      <td>0.0</td>\n",
       "      <td>degrees</td>\n",
       "      <td>NNS</td>\n",
       "      <td>O</td>\n",
       "    </tr>\n",
       "  </tbody>\n",
       "</table>\n",
       "</div>"
      ],
      "text/plain": [
       "   sentence#     word  pos        tag\n",
       "0        0.0  Preheat   VB   U-Action\n",
       "1        0.0     oven   NN  U-Utensil\n",
       "2        0.0       to   IN          O\n",
       "3        0.0      425   CD          O\n",
       "4        0.0  degrees  NNS          O"
      ]
     },
     "execution_count": 11,
     "metadata": {},
     "output_type": "execute_result"
    },
    {
     "data": {
      "application/javascript": [
       "\n",
       "            setTimeout(function() {\n",
       "                var nbb_cell_id = 11;\n",
       "                var nbb_unformatted_code = \"preprocessed_df.head()\";\n",
       "                var nbb_formatted_code = \"preprocessed_df.head()\";\n",
       "                var nbb_cells = Jupyter.notebook.get_cells();\n",
       "                for (var i = 0; i < nbb_cells.length; ++i) {\n",
       "                    if (nbb_cells[i].input_prompt_number == nbb_cell_id) {\n",
       "                        if (nbb_cells[i].get_text() == nbb_unformatted_code) {\n",
       "                             nbb_cells[i].set_text(nbb_formatted_code);\n",
       "                        }\n",
       "                        break;\n",
       "                    }\n",
       "                }\n",
       "            }, 500);\n",
       "            "
      ],
      "text/plain": [
       "<IPython.core.display.Javascript object>"
      ]
     },
     "metadata": {},
     "output_type": "display_data"
    }
   ],
   "source": [
    "preprocessed_df.head()"
   ]
  },
  {
   "cell_type": "code",
   "execution_count": 12,
   "metadata": {},
   "outputs": [
    {
     "data": {
      "text/plain": [
       "array(['VB', 'NN', 'IN', 'CD', 'NNS', 'DT', 'CC', '.', 'RB', 'VBN', 'JJ',\n",
       "       'NNP', 'TO', 'SYM', 'VBP', 'VBZ', 'WRB', 'PRP', 'PRP$', '-LRB-',\n",
       "       '-RRB-', \"''\", ',', 'VBD', '``', 'HYPH', 'VBG', ':', 'MD', 'RBR',\n",
       "       'PDT', 'RP', 'RBS', 'NFP', 'JJR', 'EX', 'WDT', 'JJS', 'NNPS', 'UH'],\n",
       "      dtype=object)"
      ]
     },
     "execution_count": 12,
     "metadata": {},
     "output_type": "execute_result"
    },
    {
     "data": {
      "application/javascript": [
       "\n",
       "            setTimeout(function() {\n",
       "                var nbb_cell_id = 12;\n",
       "                var nbb_unformatted_code = \"preprocessed_df[\\\"pos\\\"].unique()\";\n",
       "                var nbb_formatted_code = \"preprocessed_df[\\\"pos\\\"].unique()\";\n",
       "                var nbb_cells = Jupyter.notebook.get_cells();\n",
       "                for (var i = 0; i < nbb_cells.length; ++i) {\n",
       "                    if (nbb_cells[i].input_prompt_number == nbb_cell_id) {\n",
       "                        if (nbb_cells[i].get_text() == nbb_unformatted_code) {\n",
       "                             nbb_cells[i].set_text(nbb_formatted_code);\n",
       "                        }\n",
       "                        break;\n",
       "                    }\n",
       "                }\n",
       "            }, 500);\n",
       "            "
      ],
      "text/plain": [
       "<IPython.core.display.Javascript object>"
      ]
     },
     "metadata": {},
     "output_type": "display_data"
    }
   ],
   "source": [
    "preprocessed_df[\"pos\"].unique()"
   ]
  },
  {
   "cell_type": "code",
   "execution_count": 13,
   "metadata": {},
   "outputs": [
    {
     "data": {
      "application/javascript": [
       "\n",
       "            setTimeout(function() {\n",
       "                var nbb_cell_id = 13;\n",
       "                var nbb_unformatted_code = \"preprocessed_df.to_csv(\\\"./tagged_data.csv\\\")\";\n",
       "                var nbb_formatted_code = \"preprocessed_df.to_csv(\\\"./tagged_data.csv\\\")\";\n",
       "                var nbb_cells = Jupyter.notebook.get_cells();\n",
       "                for (var i = 0; i < nbb_cells.length; ++i) {\n",
       "                    if (nbb_cells[i].input_prompt_number == nbb_cell_id) {\n",
       "                        if (nbb_cells[i].get_text() == nbb_unformatted_code) {\n",
       "                             nbb_cells[i].set_text(nbb_formatted_code);\n",
       "                        }\n",
       "                        break;\n",
       "                    }\n",
       "                }\n",
       "            }, 500);\n",
       "            "
      ],
      "text/plain": [
       "<IPython.core.display.Javascript object>"
      ]
     },
     "metadata": {},
     "output_type": "display_data"
    }
   ],
   "source": [
    "preprocessed_df.to_csv(\"./tagged_data.csv\")"
   ]
  },
  {
   "cell_type": "code",
   "execution_count": null,
   "metadata": {},
   "outputs": [],
   "source": []
  }
 ],
 "metadata": {
  "kernelspec": {
   "display_name": "Python 3",
   "language": "python",
   "name": "python3"
  },
  "language_info": {
   "codemirror_mode": {
    "name": "ipython",
    "version": 3
   },
   "file_extension": ".py",
   "mimetype": "text/x-python",
   "name": "python",
   "nbconvert_exporter": "python",
   "pygments_lexer": "ipython3",
   "version": "3.7.7"
  }
 },
 "nbformat": 4,
 "nbformat_minor": 4
}
